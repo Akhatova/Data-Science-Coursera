{
 "cells": [
  {
   "cell_type": "markdown",
   "metadata": {},
   "source": [
    "## Задача 1: сравнение предложений\n",
    "Дан набор предложений, скопированных с Википедии. Каждое из них имеет \"кошачью тему\" в одном из трех смыслов:\n",
    "\n",
    "- кошки (животные)\n",
    "- UNIX-утилита cat для вывода содержимого файлов\n",
    "- версии операционной системы OS X, названные в честь семейства кошачьих\n",
    "\n",
    "Ваша задача — найти два предложения, которые ближе всего по смыслу к расположенному в самой первой строке. В качестве меры близости по смыслу мы будем использовать косинусное расстояние.\n",
    "\n",
    "Выполните следующие шаги:\n",
    "\n",
    "1. Скачайте файл с предложениями (sentences.txt).\n",
    "2. Каждая строка в файле соответствует одному предложению. Считайте их, приведите каждую к нижнему регистру с помощью строковой функции lower().\n",
    "3. Произведите токенизацию, то есть разбиение текстов на слова. Для этого можно воспользоваться регулярным выражением, которое считает разделителем любой символ, не являющийся буквой: re.split('[^a-z]', t). Не забудьте удалить пустые слова после разделения.\n",
    "4. Составьте список всех слов, встречающихся в предложениях. Сопоставьте каждому слову индекс от нуля до (d - 1), где d — число различных слов в предложениях. Для этого удобно воспользоваться структурой dict.\n",
    "5. Создайте матрицу размера n d, где n — число предложений. Заполните ее: элемент с индексом (i, j) в этой матрице должен быть равен количеству вхождений j-го слова в i-е предложение. У вас должна получиться матрица размера 254 22.\n",
    "6. Найдите косинусное расстояние от первого предложения до всех остальных с помощью функции scipy.spatial.distance.cosine. Какие номера у двух предложений, ближайших к нулевому по этому расстоянию (строки нумеруются с нуля)? Эти два числа и будут ответами на задание.\n",
    "7. Запишите полученные числа в файл, разделив пробелом. Обратите внимание, что файл должен состоять из одной строки, в конце которой не должно быть переноса. Пример файла с решением вы можете найти в конце задания (submission-1.txt). Совпадают ли ближайшие два предложения по тематике с первым? Совпадают ли тематики у следующих по близости предложений?\n",
    "\n",
    "Разумеется, использованный вами метод крайне простой. Например, он не учитывает формы слов (так, cat и cats он считает разными словами, хотя по сути они означают одно и то же), не удаляет из текстов артикли и прочие ненужные слова. Позже мы будем подробно изучать анализ текстов, где выясним, как достичь высокого качества в задаче поиска похожих предложений."
   ]
  },
  {
   "cell_type": "code",
   "execution_count": 30,
   "metadata": {},
   "outputs": [
    {
     "data": {
      "text/plain": [
       "(22L, 254L)"
      ]
     },
     "execution_count": 30,
     "metadata": {},
     "output_type": "execute_result"
    }
   ],
   "source": [
    "import numpy\n",
    "import scipy\n",
    "import re\n",
    "from scipy.spatial import distance\n",
    "\n",
    "import re\n",
    "L = []\n",
    "dict_word = {} #dictionary index : word\n",
    "count = 0\n",
    "f = open ('sentences.txt','r')\n",
    "for line in f:\n",
    "    line = line.lower()\n",
    "    line = re.split('[^a-z]', line)\n",
    "    line = [x for x in line if x]\n",
    "    L.append(line)\n",
    "    \n",
    "    for word in line:\n",
    "        if word and word not in dict_word:\n",
    "            dict_word[word] = count\n",
    "            count += 1\n",
    "import numpy as np\n",
    "matrix = np.zeros((len(L), len(dict_word))) #create 0-matrix\n",
    "i = 0\n",
    "for line in L:\n",
    "    for word in line:\n",
    "        frequency = line.count(word)\n",
    "        j  = dict_word[word]\n",
    "        #filling the matrix by frequency of word appearance in the sentence\n",
    "        matrix[i][j] = frequency\n",
    "    i += 1\n",
    "    \n",
    "matrix.shape"
   ]
  },
  {
   "cell_type": "code",
   "execution_count": 31,
   "metadata": {},
   "outputs": [
    {
     "name": "stdout",
     "output_type": "stream",
     "text": [
      "[0.0, 0.7327387580875756]\n",
      "['domestic', 'cats', 'are', 'similar', 'in', 'size', 'to', 'the', 'other', 'members', 'of', 'the', 'genus', 'felis', 'typically', 'weighing', 'between', 'and', 'kg', 'and', 'lb']\n",
      "['in', 'comparison', 'to', 'dogs', 'cats', 'have', 'not', 'undergone', 'major', 'changes', 'during', 'the', 'domestication', 'process']\n"
     ]
    }
   ],
   "source": [
    "u = matrix[0] #element of matrix\n",
    "i = 0 #index of matrix element\n",
    "A = [] #list of cosine between elements\n",
    "for line in matrix:\n",
    "    s = scipy.spatial.distance.cosine(u, matrix[i])\n",
    "    i += 1\n",
    "    A.append(s)\n",
    "    \n",
    "Dic = {}\n",
    "nmb = 0\n",
    "for element in A:\n",
    "    Dic[element] = nmb\n",
    "    nmb += 1\n",
    "    \n",
    "print sorted(Dic)[:2]\n",
    "print L[Dic[0.7327387580875756]]\n",
    "print L[Dic[0.0]]"
   ]
  },
  {
   "cell_type": "code",
   "execution_count": 32,
   "metadata": {},
   "outputs": [],
   "source": [
    "file = open(\"sentences-ans.txt\", 'w')\n",
    "file.write(str(sorted(Dic)[:2]))\n",
    "file.close()"
   ]
  }
 ],
 "metadata": {
  "kernelspec": {
   "display_name": "Python 2",
   "language": "python",
   "name": "python2"
  },
  "language_info": {
   "codemirror_mode": {
    "name": "ipython",
    "version": 2
   },
   "file_extension": ".py",
   "mimetype": "text/x-python",
   "name": "python",
   "nbconvert_exporter": "python",
   "pygments_lexer": "ipython2",
   "version": "2.7.15"
  }
 },
 "nbformat": 4,
 "nbformat_minor": 2
}
